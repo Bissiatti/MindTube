{
 "cells": [
  {
   "cell_type": "markdown",
   "id": "cd6a465b",
   "metadata": {
    "id": "3c03e925-515f-40d0-88ae-a279b42e1077"
   },
   "source": [
    "## Text Network"
   ]
  },
  {
   "cell_type": "markdown",
   "id": "35646bbf",
   "metadata": {
    "id": "Jep8ct1CMge9"
   },
   "source": [
    "### Install dependencies"
   ]
  },
  {
   "cell_type": "code",
   "execution_count": 42,
   "id": "8a8b876f",
   "metadata": {
    "id": "72f8d91c-5290-43fa-bcaf-33a53a870b12"
   },
   "outputs": [],
   "source": [
    "import re\n",
    "import itertools\n",
    "import spacy\n",
    "from nltk import FreqDist, bigrams\n",
    "import numpy as np\n",
    "import pandas as pd\n",
    "import networkx as nx\n",
    "from pyvis.network import Network\n",
    "import seaborn as sns\n",
    "from collections import Counter\n",
    "sns.set(rc={'figure.figsize':(15,7)})"
   ]
  },
  {
   "cell_type": "markdown",
   "id": "b19f1e51",
   "metadata": {
    "id": "79b33fc5-b0fa-4a13-a7d3-b8f4687ce013"
   },
   "source": [
    "### Auxiliary functions"
   ]
  },
  {
   "cell_type": "code",
   "execution_count": 43,
   "id": "30023ffe",
   "metadata": {
    "id": "e2a3ac55-0cdb-45c2-b26a-882bf8243355"
   },
   "outputs": [],
   "source": [
    "def remove_stopwords(text):\n",
    "    doc = nlp(text)\n",
    "    return \" \".join([token.text for token in doc if token.is_stop == False])\n",
    "\n",
    "def pre_processing(text):\n",
    "    text = remove_stopwords(text)\n",
    "    text = re.sub(r'[^\\w\\s]', '', text) #remove punctuation\n",
    "    text = re.sub(r\"\\s{2,}\", \" \", text)\n",
    "    return text\n",
    "\n",
    "def co_occurrence(text):\n",
    "    corpus = list(itertools.chain.from_iterable([text.split(' ')]))\n",
    "    vocab = list(set(corpus))\n",
    "    vocab_index = {word: i for i, word in enumerate(vocab)}\n",
    "    bi_grams = list(bigrams(corpus))\n",
    "    bigram_freq = FreqDist(bi_grams).most_common(len(bi_grams)) \n",
    "    co_occurrence_matrix = np.zeros((len(vocab), len(vocab))) \n",
    "    \n",
    "    #bigram = ((word n, word n+1), num_occurrences)\n",
    "    for bigram in bigram_freq:\n",
    "        current = bigram[0][1] #word n+1\n",
    "        previous = bigram[0][0] #word n\n",
    "        count = bigram[1] #num_occurrences\n",
    "        pos_current = vocab_index[current] #obtain id for word n+1 \n",
    "        pos_previous = vocab_index[previous] #obtain id for word n \n",
    "        co_occurrence_matrix[pos_current][pos_previous] = count\n",
    "        \n",
    "    return co_occurrence_matrix, vocab_index\n",
    "\n",
    "def structure_text_network(matrix, vocab_index):\n",
    "    data_matrix = pd.DataFrame(matrix, index=vocab_index, columns=vocab_index)\n",
    "    data_stack = data_matrix.stack()\n",
    "    structure = data_stack[data_stack >= 1].rename_axis(('source', 'target')).reset_index(name='weight')\n",
    "    return structure[(structure.source != \" \") & (structure.target != \" \")]"
   ]
  },
  {
   "cell_type": "markdown",
   "id": "6875a633",
   "metadata": {
    "id": "cb6013f9-167e-48c2-bf33-ae21fb5db4a0"
   },
   "source": [
    "### Generate text network"
   ]
  },
  {
   "cell_type": "code",
   "execution_count": 44,
   "id": "5cc316f8",
   "metadata": {
    "id": "3cec1db4-75f9-422b-90c3-11b671df00af"
   },
   "outputs": [],
   "source": [
    "nlp = spacy.load(\"pt_core_news_sm\")"
   ]
  },
  {
   "cell_type": "code",
   "execution_count": 45,
   "id": "3a3de5b0",
   "metadata": {
    "id": "c2cb690f-54b3-4d08-88c3-e527938e6129"
   },
   "outputs": [],
   "source": [
    "text = \"\"\"\n",
    "Ministros do Supremo Tribunal Federal creem que o movimento de caminhoneiros que bloqueia estradas em diversos pontos do país é uma armadilha óbvia montada pelo entorno mais radical do presidente Jair Bolsonaro (PL), derrotado no domingo (30) por Luiz Inácio Lula da Silva (PT).\n",
    "Daí a celeridade da corte em caracterizar a ilegalidade do protesto e pendurar no pescoço do governo, na figura da Polícia Rodoviária Federal, a responsabilidade pela confusão. Adiantando o debate jurídico, avaliam ministros, a posição pretendida pelo Planalto fica enfraquecida.\n",
    "O plano percebido pela cúpula do Judiciário vem sendo telegrafado desde o ano passado, como exemplificou em artigo nesta Folha de S.Paulo Raul Jungmann, que na qualidade de ministro da Segurança Pública do governo Michel Temer (MDB) lidou diretamente com a greve de caminhoneiros de 2018.\n",
    "Segundo a trama, o bolsonarismo estimula uma desobediência civil após a eleição de Lula e força alguma autoridade estadual a pedir a intervenção do Exército. Só que, pela Constituição, quem tem de dar tal autorização é Bolsonaro, e o impasse se coloca, culminando num embate entre Planalto e Supremo.\n",
    "\n",
    "Ao avocar a discussão prévia, na forma da decisão de Alexandre de Moraes que já tem maioria de apoio na corte, o Supremo esvazia o controle narrativo da crise por Bolsonaro, que se manteve quieto desde que perdeu o pleito por 1,8 ponto percentual no domingo. Com efeito, Moraes já deu permissão às PMs estaduais para fazer desbloqueios em pontos que a PRF não agir, inclusive estradas federais.\n",
    "A realidade joga em favor da corte, também. Bolsonaro está no momento mais isolado de todas sua meteórica carreira rumo à Presidência, conquistada em 2018. Nenhum aliado seu contestou o resultado da eleição, ao contrário: do presidente da Câmara, Arthur Lira (PP-AL), ao pastor Silas Malafaia, diversos bolsonaristas pregaram respeito às urnas.\n",
    "\n",
    "Mais importante, o Alto-Comando do Exército fez chegar aos generais da reserva do Planalto o recado de que a Força estará ao lado da Constituição se houver algum tipo de embate institucional. Mesmo discordando com frequência e criticando ministros da corte, isso foi lido como apoiar decisões do Supremo.\n",
    "\n",
    "Sobraram a família de Bolsonaro e os supracitados generais palacianos, todos em silêncio monástico como o presidente. Já pularam do barco o vice, general Hamilton Mourão, senador eleito, e o ministro da Casa Civil, Ciro Nogueira (PP), prócer do centrão.\n",
    "\n",
    "Com o refluxo apontado nos protestos em alguns pontos nesta manhã de terça (1º), a jogada de Moraes parece apontar para uma resolução da crise. A ausência tática de Lula do debate é outro fator notado por observadores: o petista está evitando se envolver e dar corpo ao que é visto como um esperneio final de um presidente derrotado.\n",
    "\n",
    "Quem terá problemas no processo parecer ser o comandante da PRF, Silvinei Vasques, que tem ameaça de prisão na ordem de Moraes. Ele já havia gerado grande desconfiança ao mobilizar operações inauditas em estradas usadas por eleitores em regiões de grande votação petista, no Nordeste, após pedir voto para o chefe em redes sociais na véspera.\"\"\"\n"
   ]
  },
  {
   "cell_type": "code",
   "execution_count": 46,
   "id": "3a59b924",
   "metadata": {
    "id": "8be9e201-f14c-4d98-ade0-a5d12c28d544"
   },
   "outputs": [],
   "source": [
    "text_cleaned = pre_processing(text)\n",
    "matrix, vocab = co_occurrence(text_cleaned)\n",
    "structure_network = structure_text_network(matrix, vocab)"
   ]
  },
  {
   "cell_type": "code",
   "execution_count": 47,
   "id": "f9e13880",
   "metadata": {
    "colab": {
     "base_uri": "https://localhost:8080/",
     "height": 424
    },
    "id": "t1S3k5jk06Lj",
    "outputId": "a88fb51a-b6c2-40ab-e80c-0da77a035ac2"
   },
   "outputs": [
    {
     "data": {
      "text/html": [
       "<div>\n",
       "<style scoped>\n",
       "    .dataframe tbody tr th:only-of-type {\n",
       "        vertical-align: middle;\n",
       "    }\n",
       "\n",
       "    .dataframe tbody tr th {\n",
       "        vertical-align: top;\n",
       "    }\n",
       "\n",
       "    .dataframe thead th {\n",
       "        text-align: right;\n",
       "    }\n",
       "</style>\n",
       "<table border=\"1\" class=\"dataframe\">\n",
       "  <thead>\n",
       "    <tr style=\"text-align: right;\">\n",
       "      <th></th>\n",
       "      <th>source</th>\n",
       "      <th>target</th>\n",
       "      <th>weight</th>\n",
       "    </tr>\n",
       "  </thead>\n",
       "  <tbody>\n",
       "    <tr>\n",
       "      <th>0</th>\n",
       "      <td></td>\n",
       "      <td>véspera</td>\n",
       "      <td>1.0</td>\n",
       "    </tr>\n",
       "    <tr>\n",
       "      <th>1</th>\n",
       "      <td>petista</td>\n",
       "      <td>votação</td>\n",
       "      <td>1.0</td>\n",
       "    </tr>\n",
       "    <tr>\n",
       "      <th>2</th>\n",
       "      <td>petista</td>\n",
       "      <td>observadores</td>\n",
       "      <td>1.0</td>\n",
       "    </tr>\n",
       "    <tr>\n",
       "      <th>3</th>\n",
       "      <td>ordem</td>\n",
       "      <td>prisão</td>\n",
       "      <td>1.0</td>\n",
       "    </tr>\n",
       "    <tr>\n",
       "      <th>4</th>\n",
       "      <td>Ministros</td>\n",
       "      <td></td>\n",
       "      <td>1.0</td>\n",
       "    </tr>\n",
       "    <tr>\n",
       "      <th>...</th>\n",
       "      <td>...</td>\n",
       "      <td>...</td>\n",
       "      <td>...</td>\n",
       "    </tr>\n",
       "    <tr>\n",
       "      <th>263</th>\n",
       "      <td>pularam</td>\n",
       "      <td>presidente</td>\n",
       "      <td>1.0</td>\n",
       "    </tr>\n",
       "    <tr>\n",
       "      <th>264</th>\n",
       "      <td>telegrafado</td>\n",
       "      <td>sendo</td>\n",
       "      <td>1.0</td>\n",
       "    </tr>\n",
       "    <tr>\n",
       "      <th>265</th>\n",
       "      <td>usadas</td>\n",
       "      <td>estradas</td>\n",
       "      <td>1.0</td>\n",
       "    </tr>\n",
       "    <tr>\n",
       "      <th>266</th>\n",
       "      <td>eleitores</td>\n",
       "      <td>usadas</td>\n",
       "      <td>1.0</td>\n",
       "    </tr>\n",
       "    <tr>\n",
       "      <th>267</th>\n",
       "      <td>passado</td>\n",
       "      <td>ano</td>\n",
       "      <td>1.0</td>\n",
       "    </tr>\n",
       "  </tbody>\n",
       "</table>\n",
       "<p>268 rows × 3 columns</p>\n",
       "</div>"
      ],
      "text/plain": [
       "          source        target  weight\n",
       "0                      véspera     1.0\n",
       "1        petista       votação     1.0\n",
       "2        petista  observadores     1.0\n",
       "3          ordem        prisão     1.0\n",
       "4      Ministros                   1.0\n",
       "..           ...           ...     ...\n",
       "263      pularam    presidente     1.0\n",
       "264  telegrafado         sendo     1.0\n",
       "265       usadas      estradas     1.0\n",
       "266    eleitores        usadas     1.0\n",
       "267      passado           ano     1.0\n",
       "\n",
       "[268 rows x 3 columns]"
      ]
     },
     "execution_count": 47,
     "metadata": {},
     "output_type": "execute_result"
    }
   ],
   "source": [
    "structure_network"
   ]
  },
  {
   "cell_type": "code",
   "execution_count": 48,
   "id": "f743cd7e",
   "metadata": {
    "id": "7b5a7e92-018a-45a6-a32b-555a9550928f"
   },
   "outputs": [],
   "source": [
    "text_network = nx.DiGraph()\n",
    "text_network = nx.from_pandas_edgelist(structure_network, 'target', 'source', ['weight'])"
   ]
  },
  {
   "cell_type": "markdown",
   "id": "4bb2cf1e",
   "metadata": {
    "id": "5156a3b0-1833-4d01-9dbd-d591265f7c37"
   },
   "source": [
    "### PageRank"
   ]
  },
  {
   "cell_type": "code",
   "execution_count": 49,
   "id": "3e4bc0b7",
   "metadata": {},
   "outputs": [],
   "source": [
    "text_network = nx.DiGraph()\n",
    "text_network = nx.from_pandas_edgelist(structure_network, 'target', 'source', ['weight'])"
   ]
  },
  {
   "cell_type": "code",
   "execution_count": 50,
   "id": "42aaa9eb",
   "metadata": {},
   "outputs": [],
   "source": [
    "def pagerank_centrality(G):\n",
    "    centrality =  nx.pagerank(G)\n",
    "    return sorted(centrality.items(), key=lambda x: x[1], reverse=False)"
   ]
  },
  {
   "cell_type": "code",
   "execution_count": 51,
   "id": "0135a183",
   "metadata": {},
   "outputs": [],
   "source": [
    "centrality = pagerank_centrality(text_network)\n",
    "\n",
    "#dicionário da centralidade\n",
    "cen_dict = {}\n",
    "max_cen = 0\n",
    "for x in centrality:\n",
    "    cen_dict[x[0]] = x[1]\n",
    "    if max_cen < x[1]:\n",
    "        max_cen = x[1]"
   ]
  },
  {
   "cell_type": "markdown",
   "id": "3dfd372b",
   "metadata": {
    "id": "bb3ce1d1-5cba-4c64-9dcc-9b4bc1d7a432"
   },
   "source": [
    "### Graph Visualization"
   ]
  },
  {
   "cell_type": "code",
   "execution_count": 52,
   "id": "017769f6",
   "metadata": {},
   "outputs": [],
   "source": [
    "# lista dos nós\n",
    "name_lst = [x[0] for x in centrality]\n",
    "\n",
    "# lista de nós a serem removidos, estamos mantendo os 25 maiores\n",
    "rmv_lst = name_lst[:-25]\n",
    "\n",
    "# exibição do nome dos nós para a visualização\n",
    "for i in text_network.nodes:\n",
    "    text_network.nodes[i]['label'] = i\n",
    "\n",
    "# redução do grafo mantendo a conectividade\n",
    "for i in rmv_lst:\n",
    "    maxi = 0\n",
    "    for j in text_network.neighbors(i):\n",
    "        w = name_lst.index(j)\n",
    "        if maxi < w:\n",
    "            maxi = w\n",
    "            merge_node = j\n",
    "            \n",
    "    for j in text_network.neighbors(i):\n",
    "        if not (j == merge_node or (j in text_network.neighbors(merge_node))):\n",
    "            text_network.add_edge(merge_node, j, weight=text_network[i][j]['weight']/2)\n",
    "    text_network.remove_node(i)"
   ]
  },
  {
   "cell_type": "code",
   "execution_count": 97,
   "id": "c18c2b34",
   "metadata": {},
   "outputs": [
    {
     "data": {
      "text/html": [
       "\n",
       "        <iframe\n",
       "            width=\"1000px\"\n",
       "            height=\"800px\"\n",
       "            src=\"text_network.html\"\n",
       "            frameborder=\"0\"\n",
       "            allowfullscreen\n",
       "        ></iframe>\n",
       "        "
      ],
      "text/plain": [
       "<IPython.lib.display.IFrame at 0x2498f24ee80>"
      ]
     },
     "execution_count": 97,
     "metadata": {},
     "output_type": "execute_result"
    }
   ],
   "source": [
    "nt = Network('800px', '1000px', notebook=True)\n",
    "nt.from_nx(text_network)\n",
    "\n",
    "for edg in nt.edges:\n",
    "    # espessura e física das arestas\n",
    "    edg['width'] = edg['weight']**4\n",
    "    if edg['weight'] < 1:\n",
    "        edg['physics'] = False\n",
    "        \n",
    "for n in nt.nodes:\n",
    "    # tamanho dos nós\n",
    "    n['shape'] = 'ellipse'\n",
    "    size = cen_dict[n['label']]*30/max_cen\n",
    "    n['font'] = str(int(size))+'px arial white'\n",
    "    n['color'] = '#7f333f'\n",
    "    n['labelHighlightBold'] = True\n",
    "    \n",
    "    \n",
    "for n in nt.nodes:\n",
    "    # links nos nós\n",
    "    n['title'] = \"<a href='http://www.google.com\\'>google <br> <a href='http://www.google.com\\'>yout\"\n",
    "    #print(n['size'])\n",
    "\n",
    "    \n",
    "nt.show(\"text_network.html\")"
   ]
  },
  {
   "cell_type": "code",
   "execution_count": 54,
   "id": "a9cd7603",
   "metadata": {},
   "outputs": [],
   "source": [
    "#print(nx.adjacency_matrix(text_network))"
   ]
  },
  {
   "cell_type": "code",
   "execution_count": null,
   "id": "0e72533c",
   "metadata": {},
   "outputs": [],
   "source": []
  }
 ],
 "metadata": {
  "colab": {
   "provenance": []
  },
  "kernelspec": {
   "display_name": "Python 3 (ipykernel)",
   "language": "python",
   "name": "python3"
  },
  "language_info": {
   "codemirror_mode": {
    "name": "ipython",
    "version": 3
   },
   "file_extension": ".py",
   "mimetype": "text/x-python",
   "name": "python",
   "nbconvert_exporter": "python",
   "pygments_lexer": "ipython3",
   "version": "3.10.7"
  }
 },
 "nbformat": 4,
 "nbformat_minor": 5
}
